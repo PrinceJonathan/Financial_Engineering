{
 "nbformat": 4,
 "nbformat_minor": 2,
 "metadata": {
  "language_info": {
   "name": "python",
   "codemirror_mode": {
    "name": "ipython",
    "version": 3
   },
   "version": "3.7.3-final"
  },
  "orig_nbformat": 2,
  "file_extension": ".py",
  "mimetype": "text/x-python",
  "name": "python",
  "npconvert_exporter": "python",
  "pygments_lexer": "ipython3",
  "version": 3,
  "kernelspec": {
   "name": "python37332bit6241c005451141b688f800aeda90c901",
   "display_name": "Python 3.7.3 32-bit"
  }
 },
 "cells": [
  {
   "cell_type": "markdown",
   "metadata": {},
   "source": [
    "首先，我先依照 https://ttc.scu.org.tw/memdca1.htm 網站上的三個變數依序設立 input() 並用 int() 將他們從預設的字串轉換成數字存入 p, n_y, i\n",
    "\n",
    "再來，試算輸入後的結果呈現形式為：result.png\n",
    "\n",
    "因此觀察到此償還方式是以每月還固定本金與每月相應遞減利息進行，\n",
    "\n",
    "故可以得到2值：\n",
    "n_m = n_y * 12  表示期數(月)\n",
    "p_m = p / n_m   表示固定償還本金(月)\n",
    "\n",
    "迴圈的部分運用上述邏輯，藉由逐月扣除已歸還的剩餘本金計算每個月的利息\n",
    "最後依序 print 出 本金(元)、利息(元)、本利累計(元)"
   ]
  },
  {
   "cell_type": "code",
   "execution_count": 1,
   "metadata": {},
   "outputs": [
    {
     "name": "stdout",
     "output_type": "stream",
     "text": "本金(元)  利息(元)  本利累計(元)\n第1期   10000     500      10500\n第2期   10000     458      20958\n第3期   10000     416      31375\n第4期   10000     375      41750\n第5期   10000     333      52083\n第6期   10000     291      62375\n第7期   10000     250      72625\n第8期   10000     208      82833\n第9期   10000     166      93000\n第10期   10000     125      103125\n第11期   10000     83      113208\n第12期   10000     41      123250\n"
    }
   ],
   "source": [
    "# 財務工程 108-2 作業 \n",
    "# 經濟四 李承翰\n",
    "p = int(input()) * 10000  #本金\n",
    "n_y = int(input())  #期數(年)\n",
    "i = int(input()) / 100  #年利率\n",
    "\n",
    "n_m = n_y * 12  #期數(月)\n",
    "p_m = p / n_m  #償還本金(月還\n",
    "p_i = 0  #本利累計\n",
    "print(\"      \" + \"本金(元)  利息(元)  本利累計(元)\")\n",
    "for k in range(n_m):\n",
    "    i_m = p * (i / 12)  #利息(月)\n",
    "    p -= p_m\n",
    "    p_i_m = p_m + i_m  #本利累計(月)\n",
    "    p_i += p_i_m\n",
    "    print(\"第\" + str(k + 1) + \"期\" + \"   \" + str(int(p_m)) + \"     \" + str(int(i_m)) + \"      \" + str(int(p_i)))"
   ]
  },
  {
   "cell_type": "markdown",
   "metadata": {},
   "source": [
    "上述例子以 12、1、5 為變數"
   ]
  }
 ]
}