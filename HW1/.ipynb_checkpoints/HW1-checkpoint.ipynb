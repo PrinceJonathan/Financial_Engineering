{
 "cells": [
  {
   "cell_type": "markdown",
   "metadata": {},
   "source": [
    "# 一、\n",
    "\n",
    "首先，我先依照作業參考網站 https://ttc.scu.org.tw/memdca1.htm 上的三個變數依序設立 input()，並用 int() 將他們從預設的字串轉換成數字存入 p, n_y, i\n",
    "\n",
    "再來，試算輸入後的結果呈現形式為：  \n",
    "![](result.png)\n",
    "\n",
    "因此觀察到此償還方式是以每月歸還固定本金與歸還每月相應遞減利息進行，\n",
    "\n",
    "故可以求得2值：  \n",
    "n_m = n_y * 12&nbsp;表示期數(月)  \n",
    "p_m = p / n_m&nbsp;&nbsp;表示固定償還本金(月)\n",
    "\n",
    "迴圈的部分運用上述邏輯，藉由逐月扣除已歸還的剩餘本金計算每個月的利息  \n",
    "最後依序 print 出 期數(月)、本金(元)、利息(元)、本利累計(元)"
   ]
  },
  {
   "cell_type": "code",
   "execution_count": 1,
   "metadata": {
    "scrolled": true
   },
   "outputs": [
    {
     "name": "stdout",
     "output_type": "stream",
     "text": [
      "12\n",
      "1\n",
      "5\n",
      "期數(月)  本金(元)  利息(元)  本利累計(元)\n",
      "第1期   10000     500      10500\n",
      "第2期   10000     458      20958\n",
      "第3期   10000     416      31375\n",
      "第4期   10000     375      41750\n",
      "第5期   10000     333      52083\n",
      "第6期   10000     291      62375\n",
      "第7期   10000     250      72625\n",
      "第8期   10000     208      82833\n",
      "第9期   10000     166      93000\n",
      "第10期   10000     125      103125\n",
      "第11期   10000     83      113208\n",
      "第12期   10000     41      123250\n"
     ]
    }
   ],
   "source": [
    "# 財務工程 108-2 作業 \n",
    "# 經濟四 李承翰\n",
    "p = int(input()) * 10000  #本金\n",
    "n_y = int(input())  #期數(年)\n",
    "i = int(input()) / 100  #年利率\n",
    "\n",
    "n_m = n_y * 12  #期數(月)\n",
    "p_m = p / n_m  #償還本金(月還\n",
    "p_i = 0  #本利累計\n",
    "print(\"期數(月)  本金(元)  利息(元)  本利累計(元)\")\n",
    "for k in range(n_m):\n",
    "    i_m = p * (i / 12)  #利息(月)\n",
    "    p -= p_m\n",
    "    p_i_m = p_m + i_m  #本利累計(月)\n",
    "    p_i += p_i_m\n",
    "    print(\"第\" + str(k + 1) + \"期\" + \"   \" + str(int(p_m)) + \"     \" + str(int(i_m)) + \"      \" + str(int(p_i)))"
   ]
  },
  {
   "cell_type": "markdown",
   "metadata": {},
   "source": [
    "**上面例子以 12、1、5 為本金、期數(year)、年利率**  \n",
    "\n",
    "---"
   ]
  },
  {
   "cell_type": "markdown",
   "metadata": {},
   "source": [
    "# 二、  \n",
    "完成文字敘述與演算法展示後，想把結果呈現優化，並在markdown敘述中放入圖片，於是上網研究了jupyter的使用秘訣(第一段的圖片是研究後放上去的)"
   ]
  },
  {
   "cell_type": "markdown",
   "metadata": {},
   "source": [
    "https://www.itread01.com/content/1545484157.html 中有豐富舉例，在這邊做個紀錄：  \n",
    "\n",
    "*斜體*  \n",
    "**粗體**  \n",
    "***斜粗體***    \n",
    "\n",
    ">引用文字  \n",
    ">>繼續引用文字  \n",
    ">>超愛引用文字  \n",
    ">>>瘋狂引用文字    \n",
    "\n",
    "* 重點一  \n",
    "* 重點二  \n",
    "* 沒重點  \n",
    "\n",
    "\n",
    "1. Prince  \n",
    "2. Jonathan  \n",
    "3. Hans\n",
    "\n",
    "```\n",
    "大區塊佔場\n",
    "```  \n",
    "\n",
    "一段話中間的`程式`\n",
    "\n",
    "**程式碼:**  \n",
    "```python\n",
    "for i in range(5):\n",
    "    print(i)\n",
    "```\n",
    "\n",
    "**emoji:**(可以在Github呈現)    \n",
    ":smile:  \n",
    ":smiley:  \n",
    ":smirk:  \n",
    ":worried:  \n",
    ":expressionless:  \n",
    "\n",
    "<table><tr><td bgcolor=orange> 背景色是：orange </td></tr></table>  \n",
    "\n",
    "hero|job|skill  \n",
    "-:|:-:|:-\n",
    "Iron man|leader|telling jokes\n",
    "Capatain America|chearleader|telling nonsense\n",
    "Prince|spiritual leader|telling stories\n",
    "\n",
    "\n",
    "---"
   ]
  },
  {
   "cell_type": "markdown",
   "metadata": {},
   "source": [
    "# 三、  \n",
    "初步認識markdown語法後，現在要來優化結果呈現\n",
    "\n",
    "上網搜尋python如何print出表格後，在 http://www.siyuanblog.com/?p=1606 發現prettytable的用法，於是先用pip安裝"
   ]
  },
  {
   "cell_type": "code",
   "execution_count": 3,
   "metadata": {
    "scrolled": false
   },
   "outputs": [
    {
     "name": "stdout",
     "output_type": "stream",
     "text": [
      "Requirement already satisfied: prettytable in c:\\users\\user\\anaconda3\\lib\\site-packages (0.7.2)Note: you may need to restart the kernel to use updated packages.\n",
      "\n"
     ]
    }
   ],
   "source": [
    "pip install prettytable"
   ]
  },
  {
   "cell_type": "markdown",
   "metadata": {},
   "source": [
    "---\n",
    "試印一下網站給的範例"
   ]
  },
  {
   "cell_type": "code",
   "execution_count": 2,
   "metadata": {},
   "outputs": [
    {
     "name": "stdout",
     "output_type": "stream",
     "text": [
      "+-------------------+-------+\n",
      "|        name       | score |\n",
      "+-------------------+-------+\n",
      "|        Bob        |   67  |\n",
      "|      grizzly      |   45  |\n",
      "| Tom of Caerbannog |   78  |\n",
      "|        cat        |   34  |\n",
      "|        Tony       |   39  |\n",
      "|      dolphin      |   45  |\n",
      "|     albatross     |   24  |\n",
      "+-------------------+-------+\n"
     ]
    }
   ],
   "source": [
    "from prettytable import PrettyTable\n",
    "\n",
    "table = PrettyTable([\"name\", \"score\"])\n",
    "table.add_row([\"Bob\", 67])\n",
    "table.add_row([\"grizzly\", 45])\n",
    "table.add_row([\"Tom of Caerbannog\", 78])\n",
    "table.add_row([\"cat\", 34])\n",
    "table.add_row([\"Tony\", 39])\n",
    "table.add_row([\"dolphin\", 45])\n",
    "table.add_row([\"albatross\", 24])\n",
    "table.sort_key(\"name\")\n",
    "table.reversesort = True\n",
    "\n",
    "print(table)"
   ]
  },
  {
   "cell_type": "markdown",
   "metadata": {},
   "source": [
    "---  \n",
    "接下來嘗試把結果用prettytable print出"
   ]
  },
  {
   "cell_type": "markdown",
   "metadata": {},
   "source": [
    "# 四、"
   ]
  },
  {
   "cell_type": "code",
   "execution_count": 12,
   "metadata": {},
   "outputs": [
    {
     "name": "stdout",
     "output_type": "stream",
     "text": [
      "12\n",
      "1\n",
      "5\n",
      "期數(月)  本金(元)  利息(元)  本利累計(元)\n",
      "第1期   10000     500      10500\n",
      "第2期   10000     458      20958\n",
      "第3期   10000     416      31375\n",
      "第4期   10000     375      41750\n",
      "第5期   10000     333      52083\n",
      "第6期   10000     291      62375\n",
      "第7期   10000     250      72625\n",
      "第8期   10000     208      82833\n",
      "第9期   10000     166      93000\n",
      "第10期   10000     125      103125\n",
      "第11期   10000     83      113208\n",
      "第12期   10000     41      123250\n",
      "+----------+----------+----------+--------------+\n",
      "| 期數(月) | 本金(元) | 利息(元) | 本利累計(元) |\n",
      "+----------+----------+----------+--------------+\n",
      "|  第1期   |  10000   |   500    |    10500     |\n",
      "|  第1期   |  10000   |   458    |    20958     |\n",
      "|  第1期   |  10000   |   416    |    31375     |\n",
      "|  第1期   |  10000   |   375    |    41750     |\n",
      "|  第1期   |  10000   |   333    |    52083     |\n",
      "|  第1期   |  10000   |   291    |    62375     |\n",
      "|  第1期   |  10000   |   250    |    72625     |\n",
      "|  第1期   |  10000   |   208    |    82833     |\n",
      "|  第1期   |  10000   |   166    |    93000     |\n",
      "|  第1期   |  10000   |   125    |    103125    |\n",
      "|  第1期   |  10000   |    83    |    113208    |\n",
      "|  第1期   |  10000   |    41    |    123250    |\n",
      "+----------+----------+----------+--------------+\n"
     ]
    }
   ],
   "source": [
    "# 財務工程 108-2 作業 \n",
    "# 經濟四 李承翰\n",
    "p = int(input()) * 10000  #本金\n",
    "n_y = int(input())  #期數(年)\n",
    "i = int(input()) / 100  #年利率\n",
    "\n",
    "n_m = n_y * 12  #期數(月)\n",
    "p_m = p / n_m  #償還本金(月還\n",
    "p_i = 0  #本利累計\n",
    "print(\"期數(月)  本金(元)  利息(元)  本利累計(元)\")\n",
    "table = PrettyTable([\"期數(月)\", \"本金(元)\", \"利息(元)\", \"本利累計(元)\"]) #prettytable現身\n",
    "for k in range(n_m):\n",
    "    i_m = p * (i / 12)  #利息(月)\n",
    "    p -= p_m\n",
    "    p_i_m = p_m + i_m  #本利累計(月)\n",
    "    p_i += p_i_m\n",
    "    table.add_row([\"第1期\", int(p_m), int(i_m), int(p_i)]) #add進table\n",
    "    print(\"第\" + str(k + 1) + \"期\" + \"   \" + str(int(p_m)) + \"     \" + str(int(i_m)) + \"      \" + str(int(p_i)))\n",
    "    \n",
    "    \n",
    "print(table)"
   ]
  },
  {
   "cell_type": "markdown",
   "metadata": {},
   "source": [
    "---\n",
    "順道試一下pandas，看哪個呈現比較好看，於是上網找到了https://medium.com/@weilihmen/python-pandas-%E5%9F%BA%E6%9C%AC%E6%93%8D%E4%BD%9C%E6%95%99%E5%AD%B8-%E6%88%90%E7%B8%BE%E8%A1%A8-f6d0ec4f89  \n",
    "以下為其中範例："
   ]
  },
  {
   "cell_type": "code",
   "execution_count": 11,
   "metadata": {},
   "outputs": [
    {
     "name": "stdout",
     "output_type": "stream",
     "text": [
      "   A  B  C\n",
      "0  1  2  3\n",
      "1  1  2  3\n",
      "2  1  2  3\n"
     ]
    }
   ],
   "source": [
    "import pandas as pd\n",
    "dic={\"A\":\"1\",\"B\":\"2\",\"C\":\"3\"}\n",
    "id=[\"0\",\"1\",\"2\"]\n",
    "df=pd.DataFrame(dic,index=id)\n",
    "print(df)"
   ]
  },
  {
   "cell_type": "code",
   "execution_count": 1,
   "metadata": {},
   "outputs": [
    {
     "name": "stdout",
     "output_type": "stream",
     "text": [
      "    數學  國文\n",
      "姓名        \n",
      "小華  90  80\n",
      "小明  70  55\n",
      "小李  45  75\n"
     ]
    }
   ],
   "source": [
    "import pandas as pd\n",
    "scores = [{\"姓名\":\"小華\",\"數學\":90, \"國文\":80},\n",
    "          {\"姓名\":\"小明\",\"數學\":70, \"國文\":55},\n",
    "          {\"姓名\":\"小李\",\"數學\":45, \"國文\":75}]\n",
    "score_df = pd.DataFrame(scores)\n",
    "score_df.set_index('姓名', inplace=True)\n",
    "#透過set_index方法，使姓名這個欄位變成index\n",
    "#inplace就是產生新的df是否取代舊的df，預設是False\n",
    "#等同於 score_df = score_df.set_index('姓名')\n",
    "#>>      國文  數學\n",
    "#>> 姓名        \n",
    "#>> 小華  80  90\n",
    "#>> 小明  55  70\n",
    "#>> 小李  75  45\n",
    "\n",
    "print(score_df)"
   ]
  },
  {
   "cell_type": "markdown",
   "metadata": {},
   "source": [
    "---\n",
    "## 目前覺得會使用過多儲存空間，所以先行暫停嘗試~"
   ]
  }
 ],
 "metadata": {
  "kernelspec": {
   "display_name": "Python 3",
   "language": "python",
   "name": "python3"
  },
  "language_info": {
   "codemirror_mode": {
    "name": "ipython",
    "version": 3
   },
   "file_extension": ".py",
   "mimetype": "text/x-python",
   "name": "python",
   "nbconvert_exporter": "python",
   "pygments_lexer": "ipython3",
   "version": "3.7.4"
  }
 },
 "nbformat": 4,
 "nbformat_minor": 4
}
