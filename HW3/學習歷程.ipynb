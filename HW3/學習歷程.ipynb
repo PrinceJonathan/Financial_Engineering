{
 "cells": [
  {
   "cell_type": "markdown",
   "metadata": {},
   "source": [
    "這次的作業相較上次來的簡單，只包含一個演算法，因此接下來就依我與此演算法的奮鬥過程做紀錄："
   ]
  },
  {
   "cell_type": "markdown",
   "metadata": {},
   "source": [
    "# 一、列出input和第n期的call value陣列"
   ]
  },
  {
   "cell_type": "code",
   "execution_count": 5,
   "metadata": {},
   "outputs": [
    {
     "data": {
      "text/plain": [
       "[390.0, 30.0, 0, 0]"
      ]
     },
     "execution_count": 5,
     "metadata": {},
     "output_type": "execute_result"
    }
   ],
   "source": [
    "import math\n",
    "\n",
    "# S = int(input(\"輸入一檔無配發股息的股票價格 S：\"))\n",
    "# u = float(input(\"輸入上升比例 u：\"))\n",
    "# d = float(input(\"輸入下降比例 d：\"))\n",
    "# r = float(input(\"輸入無風險利率 r：\"))\n",
    "# X = int(input(\"輸入履約價格 X：\"))\n",
    "# n = int(input(\"輸入期數 n：\"))\n",
    "S = 160\n",
    "u = 1.5\n",
    "d = 0.5\n",
    "r = 0.18232\n",
    "X = 150\n",
    "n = 3\n",
    "\n",
    "R = math.exp(r) \n",
    "p = (R - d)/(u - d)\n",
    "\n",
    "Cn_list = []  #在第n期的call value陣列\n",
    "for i in range(n+1):\n",
    "    Cn = S * pow(u, (n-i)) * pow(d, i)\n",
    "    if Cn - X > 0:\n",
    "        Cn_list.append(Cn - X)\n",
    "    else:\n",
    "        Cn_list.append(0)\n",
    "Cn_list"
   ]
  },
  {
   "cell_type": "markdown",
   "metadata": {},
   "source": [
    "第n期的call value陣列利用for迴圈和一些數學的頭腦可以輕易地求出，真正的難題在後頭。"
   ]
  },
  {
   "cell_type": "markdown",
   "metadata": {},
   "source": [
    "# 二、降階倒推回理論值call value\n",
    "\n",
    "> 先嘗試了寫一個迴圈，不過不知為何在裡面又加了個遞迴，模稜兩可的卡住了..."
   ]
  },
  {
   "cell_type": "code",
   "execution_count": 4,
   "metadata": {},
   "outputs": [
    {
     "ename": "IndexError",
     "evalue": "list index out of range",
     "output_type": "error",
     "traceback": [
      "\u001b[1;31m---------------------------------------------------------------------------\u001b[0m",
      "\u001b[1;31mIndexError\u001b[0m                                Traceback (most recent call last)",
      "\u001b[1;32m<ipython-input-4-ea03cab4b4d8>\u001b[0m in \u001b[0;36m<module>\u001b[1;34m\u001b[0m\n\u001b[0;32m      8\u001b[0m \u001b[1;33m\u001b[0m\u001b[0m\n\u001b[0;32m      9\u001b[0m \u001b[1;33m\u001b[0m\u001b[0m\n\u001b[1;32m---> 10\u001b[1;33m \u001b[0mprint\u001b[0m\u001b[1;33m(\u001b[0m\u001b[1;34m\"call calue 約等於\"\u001b[0m\u001b[1;33m,\u001b[0m \u001b[1;34m\"%.3f\"\u001b[0m \u001b[1;33m%\u001b[0m  \u001b[0mCfunc\u001b[0m\u001b[1;33m(\u001b[0m\u001b[0mCn_list\u001b[0m\u001b[1;33m)\u001b[0m\u001b[1;33m[\u001b[0m\u001b[1;36m0\u001b[0m\u001b[1;33m]\u001b[0m\u001b[1;33m)\u001b[0m\u001b[1;33m\u001b[0m\u001b[1;33m\u001b[0m\u001b[0m\n\u001b[0m",
      "\u001b[1;32m<ipython-input-4-ea03cab4b4d8>\u001b[0m in \u001b[0;36mCfunc\u001b[1;34m(x)\u001b[0m\n\u001b[0;32m      5\u001b[0m         \u001b[0ma_list\u001b[0m\u001b[1;33m.\u001b[0m\u001b[0mappend\u001b[0m\u001b[1;33m(\u001b[0m\u001b[0mc\u001b[0m\u001b[1;33m)\u001b[0m\u001b[1;33m\u001b[0m\u001b[1;33m\u001b[0m\u001b[0m\n\u001b[0;32m      6\u001b[0m         \u001b[0mb_list\u001b[0m \u001b[1;33m=\u001b[0m \u001b[0ma_list\u001b[0m\u001b[1;33m\u001b[0m\u001b[1;33m\u001b[0m\u001b[0m\n\u001b[1;32m----> 7\u001b[1;33m         \u001b[0mCfunc\u001b[0m\u001b[1;33m(\u001b[0m\u001b[0mb_list\u001b[0m\u001b[1;33m)\u001b[0m\u001b[1;33m\u001b[0m\u001b[1;33m\u001b[0m\u001b[0m\n\u001b[0m\u001b[0;32m      8\u001b[0m \u001b[1;33m\u001b[0m\u001b[0m\n\u001b[0;32m      9\u001b[0m \u001b[1;33m\u001b[0m\u001b[0m\n",
      "\u001b[1;32m<ipython-input-4-ea03cab4b4d8>\u001b[0m in \u001b[0;36mCfunc\u001b[1;34m(x)\u001b[0m\n\u001b[0;32m      2\u001b[0m     \u001b[0ma_list\u001b[0m \u001b[1;33m=\u001b[0m \u001b[1;33m[\u001b[0m\u001b[1;33m]\u001b[0m\u001b[1;33m\u001b[0m\u001b[1;33m\u001b[0m\u001b[0m\n\u001b[0;32m      3\u001b[0m     \u001b[1;32mfor\u001b[0m \u001b[0mi\u001b[0m \u001b[1;32min\u001b[0m \u001b[0mrange\u001b[0m\u001b[1;33m(\u001b[0m\u001b[0mn\u001b[0m\u001b[1;33m+\u001b[0m\u001b[1;36m1\u001b[0m\u001b[1;33m)\u001b[0m\u001b[1;33m:\u001b[0m\u001b[1;33m\u001b[0m\u001b[1;33m\u001b[0m\u001b[0m\n\u001b[1;32m----> 4\u001b[1;33m         \u001b[0mc\u001b[0m \u001b[1;33m=\u001b[0m \u001b[1;33m(\u001b[0m\u001b[0mp\u001b[0m \u001b[1;33m*\u001b[0m \u001b[0mx\u001b[0m\u001b[1;33m[\u001b[0m\u001b[0mi\u001b[0m\u001b[1;33m]\u001b[0m \u001b[1;33m+\u001b[0m \u001b[1;33m(\u001b[0m\u001b[1;36m1\u001b[0m\u001b[1;33m-\u001b[0m\u001b[0mp\u001b[0m\u001b[1;33m)\u001b[0m \u001b[1;33m*\u001b[0m \u001b[0mx\u001b[0m\u001b[1;33m[\u001b[0m\u001b[0mi\u001b[0m\u001b[1;33m+\u001b[0m\u001b[1;36m1\u001b[0m\u001b[1;33m]\u001b[0m\u001b[1;33m)\u001b[0m\u001b[1;33m/\u001b[0m\u001b[0mR\u001b[0m\u001b[1;33m\u001b[0m\u001b[1;33m\u001b[0m\u001b[0m\n\u001b[0m\u001b[0;32m      5\u001b[0m         \u001b[0ma_list\u001b[0m\u001b[1;33m.\u001b[0m\u001b[0mappend\u001b[0m\u001b[1;33m(\u001b[0m\u001b[0mc\u001b[0m\u001b[1;33m)\u001b[0m\u001b[1;33m\u001b[0m\u001b[1;33m\u001b[0m\u001b[0m\n\u001b[0;32m      6\u001b[0m         \u001b[0mb_list\u001b[0m \u001b[1;33m=\u001b[0m \u001b[0ma_list\u001b[0m\u001b[1;33m\u001b[0m\u001b[1;33m\u001b[0m\u001b[0m\n",
      "\u001b[1;31mIndexError\u001b[0m: list index out of range"
     ]
    }
   ],
   "source": [
    "def Cfunc(x):\n",
    "    a_list = []\n",
    "    for i in range(n+1):\n",
    "        c = (p * x[i] + (1-p) * x[i+1])/R\n",
    "        a_list.append(c)\n",
    "        b_list = a_list\n",
    "        Cfunc(b_list)"
   ]
  },
  {
   "cell_type": "markdown",
   "metadata": {},
   "source": [
    "> 痛定思痛之後發現其實用雙重迴圈就可以解決這個演算法："
   ]
  },
  {
   "cell_type": "code",
   "execution_count": 7,
   "metadata": {},
   "outputs": [
    {
     "name": "stdout",
     "output_type": "stream",
     "text": [
      "C[2]: [234.99980540060415, 17.499980540060417, 0.0]\n",
      "C[1]: [141.45809657082341, 10.20831063008311]\n",
      "C[0]: [85.06922876361149]\n",
      "call calue 約等於 85.069\n"
     ]
    }
   ],
   "source": [
    "def Cfunc(x):\n",
    "    for i in range(n-1, -1, -1):\n",
    "        a_list = []  #清空暫存陣列\n",
    "        for j in range(len(x)-1):\n",
    "            c = (p * x[j] + (1-p) * x[j+1])/R\n",
    "            a_list.append(c)  #暫存降階陣列\n",
    "        x = a_list  #取代成為新input   \n",
    "        print(\"C[\" + str(i) + \"]:\", x)\n",
    "    return x\n",
    "\n",
    "print(\"call calue 約等於\", \"%.3f\" %  Cfunc(Cn_list)[0])"
   ]
  },
  {
   "cell_type": "markdown",
   "metadata": {},
   "source": [
    "## 大功告成！這次算是較快的一次~"
   ]
  }
 ],
 "metadata": {
  "kernelspec": {
   "display_name": "Python 3",
   "language": "python",
   "name": "python3"
  },
  "language_info": {
   "codemirror_mode": {
    "name": "ipython",
    "version": 3
   },
   "file_extension": ".py",
   "mimetype": "text/x-python",
   "name": "python",
   "nbconvert_exporter": "python",
   "pygments_lexer": "ipython3",
   "version": "3.7.6"
  }
 },
 "nbformat": 4,
 "nbformat_minor": 4
}
