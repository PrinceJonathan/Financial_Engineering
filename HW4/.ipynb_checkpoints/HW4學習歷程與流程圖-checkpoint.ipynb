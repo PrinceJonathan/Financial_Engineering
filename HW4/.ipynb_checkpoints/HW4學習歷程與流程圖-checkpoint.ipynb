{
 "cells": [
  {
   "cell_type": "markdown",
   "metadata": {},
   "source": [
    "# 題目：\n",
    "A stock is currently priced at 75 and has a σ of 0.35.  \n",
    "It will pay two 1 dividends in 1 month and 4 months.  \n",
    "If r = 6%, what is the value of a European put and call option with an exercise price of 65 maturing in 6 months?"
   ]
  },
  {
   "cell_type": "markdown",
   "metadata": {},
   "source": [
    "# 算式過程：\n",
    "![](計算過程.png)"
   ]
  },
  {
   "cell_type": "code",
   "execution_count": 4,
   "metadata": {},
   "outputs": [
    {
     "name": "stdout",
     "output_type": "stream",
     "text": [
      "請輸入股票現值：75\n",
      "請輸入股票波動率：0.35\n",
      "請輸入發放股息次數：2\n",
      "請輸入股息：1\n",
      "請輸入第1個發放月數：1\n",
      "請輸入第2個發放月數：4\n",
      "請輸入無風險利率：0.06\n",
      "請輸入履約價：65\n",
      "請輸入期數(月)：6\n",
      "put price: 2.8603546399631448\n",
      "call price: 12.806183806810672\n"
     ]
    }
   ],
   "source": [
    "import math\n",
    "import scipy.stats as st\n",
    "\n",
    "S = int(input(\"請輸入股票現值：\"))\n",
    "σ = float(input(\"請輸入股票波動率：\"))\n",
    "Dn = int(input(\"請輸入發放股息次數：\"))\n",
    "Dd = int(input(\"請輸入股息：\"))\n",
    "Dtime = []\n",
    "for i in range(Dn):\n",
    "    Dtime += input(\"請輸入第\" + str(i+1) + \"個發放月數：\")\n",
    "r = float(input(\"請輸入無風險利率：\"))\n",
    "X = int(input(\"請輸入履約價：\"))\n",
    "t = int(input(\"請輸入期數(月)：\"))/12\n",
    "\n",
    "D = 0\n",
    "for i in range(Dn):\n",
    "    D += Dd * math.exp(-r * (int(Dtime[i])/12)) \n",
    "        \n",
    "Shat = S - D\n",
    "\n",
    "d1 = (math.log(Shat/X) + (r + (1/2)*(σ**2)) * t) / (σ * math.sqrt(t))\n",
    "# d1 = (math.log(73.02/65) + (0.06 + (1/2)*(0.35**2)) * (6/12)) / (0.35 * math.sqrt(6/12))\n",
    "d2 = d1 - σ * math.sqrt(t)\n",
    "\n",
    "p = X * math.exp(-r * t) * st.norm.cdf(-d2) - Shat * st.norm.cdf(-d1)\n",
    "c = Shat * st.norm.cdf(d1) - X * math.exp(-r * t) * st.norm.cdf(d2) \n",
    "\n",
    "print(\"put price:\", p)\n",
    "print(\"call price:\", c)"
   ]
  }
 ],
 "metadata": {
  "kernelspec": {
   "display_name": "Python 3",
   "language": "python",
   "name": "python3"
  },
  "language_info": {
   "codemirror_mode": {
    "name": "ipython",
    "version": 3
   },
   "file_extension": ".py",
   "mimetype": "text/x-python",
   "name": "python",
   "nbconvert_exporter": "python",
   "pygments_lexer": "ipython3",
   "version": "3.7.6"
  }
 },
 "nbformat": 4,
 "nbformat_minor": 4
}
