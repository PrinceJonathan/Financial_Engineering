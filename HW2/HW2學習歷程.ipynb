{
 "cells": [
  {
   "cell_type": "markdown",
   "metadata": {},
   "source": [
    "# YTM(殖利率)跟coupon rate(票面利率)的定義&比較：  \n",
    "![](interest_definition.png)  \n",
    "\n",
    "---"
   ]
  },
  {
   "cell_type": "markdown",
   "metadata": {},
   "source": [
    "# 不同視角看PV跟r：\n",
    "![](PV.png)\n",
    "\n",
    "---"
   ]
  },
  {
   "cell_type": "markdown",
   "metadata": {},
   "source": [
    "# Spot rate的圖解：  \n",
    "S(1)代表在t(1)時點的所有現金流的單利PV  \n",
    "S(2)代表在t(2)時點的所有現金流的單利PV  \n",
    "S(3)代表在t(3)時點的所有現金流的單利PV  \n",
    "...  \n",
    "...  \n",
    "...  \n",
    "![](spot_rate.png)"
   ]
  },
  {
   "cell_type": "markdown",
   "metadata": {},
   "source": [
    "# YTM跟spot rate皆為投資人的參考指標"
   ]
  },
  {
   "cell_type": "code",
   "execution_count": null,
   "metadata": {},
   "outputs": [],
   "source": []
  }
 ],
 "metadata": {
  "kernelspec": {
   "display_name": "Python 3",
   "language": "python",
   "name": "python3"
  },
  "language_info": {
   "codemirror_mode": {
    "name": "ipython",
    "version": 3
   },
   "file_extension": ".py",
   "mimetype": "text/x-python",
   "name": "python",
   "nbconvert_exporter": "python",
   "pygments_lexer": "ipython3",
   "version": "3.7.4"
  }
 },
 "nbformat": 4,
 "nbformat_minor": 4
}
