{
 "cells": [
  {
   "cell_type": "markdown",
   "metadata": {},
   "source": [
    "# YTM(殖利率)跟coupon rate(票面利率)的定義&比較：  \n",
    "![](img/interest_definition.png)  \n",
    "\n",
    "---"
   ]
  },
  {
   "cell_type": "markdown",
   "metadata": {},
   "source": [
    "# 不同視角看PV跟r(只在考慮交易時才有意義，hold到最後就甭管)：\n",
    "![](img/PV.png)\n",
    "\n",
    "---"
   ]
  },
  {
   "cell_type": "markdown",
   "metadata": {},
   "source": [
    "# Spot rate的圖解：  \n",
    "S(1)代表在t(1)時點的所有現金流的單利PV  \n",
    "S(2)代表在t(2)時點的所有現金流的單利PV  \n",
    "S(3)代表在t(3)時點的所有現金流的單利PV  \n",
    "...  \n",
    "...  \n",
    "...  \n",
    "![](img/spot_rate.png)"
   ]
  },
  {
   "cell_type": "markdown",
   "metadata": {},
   "source": [
    "#### YTM跟spot rate皆為投資人的參考指標\n",
    "\n",
    "---"
   ]
  },
  {
   "cell_type": "markdown",
   "metadata": {},
   "source": [
    "# Yield Curve詳細介紹：\n",
    "https://www.youtube.com/watch?v=5L_zQGPNXOk"
   ]
  }
 ],
 "metadata": {
  "kernelspec": {
   "display_name": "Python 3",
   "language": "python",
   "name": "python3"
  },
  "language_info": {
   "codemirror_mode": {
    "name": "ipython",
    "version": 3
   },
   "file_extension": ".py",
   "mimetype": "text/x-python",
   "name": "python",
   "nbconvert_exporter": "python",
   "pygments_lexer": "ipython3",
   "version": "3.7.4"
  }
 },
 "nbformat": 4,
 "nbformat_minor": 4
}
