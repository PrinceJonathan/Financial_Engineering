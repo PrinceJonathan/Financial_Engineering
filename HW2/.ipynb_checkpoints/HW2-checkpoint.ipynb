{
 "cells": [
  {
   "cell_type": "markdown",
   "metadata": {},
   "source": [
    "# 第一題：YTM  \n",
    "## 一、演算法與流程圖\n",
    "首先，我打開第一題的參考網站 https://www.calkoo.com/en/ytm-calculator 操作一番後，得到的結果如下：\n",
    "![](YTM.png)  \n",
    "接著我把課程學到的YTM公式找了出來(公式簡單明瞭，純粹是PV定義的數學化)，如下：\n",
    "![](PV.png)\n",
    "從上可以看到在給定 PV, F, C(可由c求出), n, m 的情況下，r是可計算的  \n",
    "於是在設計演算法時，決定讓r從0.000001開始一直跑直到跑到逼近對應的PV，藉此找出估計準確的r  \n",
    "千言萬語匯做一張流程圖，如下：  \n",
    "![](procedure.jpg)\n",
    "\n",
    "---\n",
    "經過演算法的細節優化後，成果呈現在下方，變數均有文字說明，希望日後看的人還能與今日的我交相呼應"
   ]
  },
  {
   "cell_type": "code",
   "execution_count": 3,
   "metadata": {},
   "outputs": [
    {
     "name": "stdout",
     "output_type": "stream",
     "text": [
      "PV = 1030\n",
      "F = 1000\n",
      "c = 5\n",
      "n = 3\n",
      "Choose your payments plan: \n",
      "(a) annually (b) semi-annually (c) quarterly\n",
      "a\n",
      "3.9206%"
     ]
    }
   ],
   "source": [
    "PV = int(input(\"PV = \"))  #Current Bond Price\n",
    "F = int(input(\"F = \"))  #Bond Par Value\n",
    "c = int(input(\"c = \")) / 100  #Bond Coupon Rate(%p.a.)\n",
    "n = int(input(\"n = \"))  #Years to Maturity\n",
    "print(\"Choose your payments plan: \")\n",
    "print(\"(a) annually (b) semi-annually (c) quarterly\")\n",
    "m = input()  #輸入Payment方案\n",
    "e = 1000000  #取小數點後4位數\n",
    "if m == \"a\":\n",
    "    m = 1\n",
    "    n *= m\n",
    "    C = F * c / m\n",
    "    for i in range(1, e):\n",
    "        r = i/e\n",
    "        P = C * (1 - (1 + r/m)**(-n))/(r/m) + F/(1+r/m)**n\n",
    "        if P < PV:\n",
    "            r = 100*r/m\n",
    "            print(\"%.4f\" % r, end = \"%\")\n",
    "            break\n",
    "elif m == \"b\":\n",
    "    m = 2\n",
    "    n *= m\n",
    "    C = F * c / m\n",
    "    for i in range(1, e):\n",
    "        r = i/e\n",
    "        P = C * (1 - (1 + r/m)**(-n))/(r/m) + F/(1+r/m)**n\n",
    "        if P < PV:\n",
    "            r = 100*r/m\n",
    "            print(\"%.4f\" % r, end = \"%\")\n",
    "            break\n",
    "else:\n",
    "    m = 4\n",
    "    n *= m\n",
    "    C = F * c / m\n",
    "    for i in range(1, e):\n",
    "        r = i/e\n",
    "        P = C * (1 - (1 + r/m)**(-n))/(r/m) + F/(1+r/m)**n\n",
    "        if P < PV:\n",
    "            r = 100*r/m\n",
    "            print(\"%.4f\" % r, end = \"%\")\n",
    "            break"
   ]
  },
  {
   "cell_type": "markdown",
   "metadata": {},
   "source": [
    "---"
   ]
  },
  {
   "cell_type": "markdown",
   "metadata": {},
   "source": [
    "# 第二題：Spot rate\n",
    "接下來，我打開第二題的參考網站 https://www.trignosource.com/finance/spot%20rate.html#Calculator 操作一番後，得到的結果如下：\n",
    "![](spot_rate_web.png)\n",
    "根據zero-coupon bond的定義，可以數學化得出下列公式：\n",
    "![](spot_rate_def.png)"
   ]
  },
  {
   "cell_type": "code",
   "execution_count": 2,
   "metadata": {},
   "outputs": [
    {
     "name": "stdout",
     "output_type": "stream",
     "text": [
      "Duration of spot rate = 4\n",
      "Price of 4 year unit zero-coupon bond = 0.683\n",
      "4 year spot rate of interest: 10.00 %\n",
      "4 year spot force of interest: 9.53 %\n"
     ]
    }
   ],
   "source": [
    "import math\n",
    "t = int(input(\"Duration of spot rate = \"))\n",
    "print(\"Price of\", t, \"year unit zero-coupon bond = \", end = \"\")\n",
    "p = float(input())\n",
    "\n",
    "y = p ** (-1/t) - 1\n",
    "y *= 100\n",
    "\n",
    "Y = (-1/t) * math.log(p)\n",
    "Y *= 100\n",
    "print(t, \"year spot rate of interest:\", \"%.2f\" % y, \"%\")\n",
    "print(t, \"year spot force of interest:\", \"%.2f\" % Y, \"%\")"
   ]
  },
  {
   "cell_type": "markdown",
   "metadata": {},
   "source": [
    "# 第三題：Forward rate\n",
    "最後，我打開第三題的參考網站 https://www.trignosource.com/finance/Forward%20rate.html#Calculator 操作一番後，得到的結果如下：\n",
    "![](forward_rate.png)\n",
    "根據forward rate的定義：未來某個時點購賣債券的利率，可以數學化得出下列公式：\n",
    "![](forward_rate_def.png)"
   ]
  },
  {
   "cell_type": "code",
   "execution_count": 19,
   "metadata": {},
   "outputs": [
    {
     "name": "stdout",
     "output_type": "stream",
     "text": [
      "Time due for the beginning of forward rate: 2\n",
      "Duration of forward rate: 4\n",
      "Price of 2 year unit zero-coupon bond: 0.3\n",
      "Price of 6 year unit zero-coupon bond: 0.2\n",
      "6 year forward rate of interest beginning 2 years from now: 10.67 %\n",
      "6 year forward force of interest beginning 2 years from now: 10.14 %\n"
     ]
    }
   ],
   "source": [
    "import math\n",
    "t = int(input(\"Time due for the beginning of forward rate: \"))\n",
    "r = int(input(\"Duration of forward rate: \"))\n",
    "print(\"Price of\", t, \"year unit zero-coupon bond: \", end = \"\")\n",
    "p_t = float(input())\n",
    "print(\"Price of\", t+r, \"year unit zero-coupon bond: \", end = \"\")\n",
    "p_tr = float(input())\n",
    "\n",
    "f = (p_t / p_tr) ** (1/r) - 1\n",
    "f *= 100\n",
    "\n",
    "F = (1/r) * math.log(p_t/p_tr)\n",
    "F *= 100\n",
    "\n",
    "print(t+r, \"year forward rate of interest beginning\", t, \"years from now:\", \"%.2f\" % f, \"%\")\n",
    "print(t+r, \"year forward force of interest beginning\", t, \"years from now:\", \"%.2f\" % F, \"%\")"
   ]
  },
  {
   "cell_type": "markdown",
   "metadata": {},
   "source": [
    "# Spot rate流程圖： \n",
    "![](s_f_graph.png)"
   ]
  },
  {
   "cell_type": "code",
   "execution_count": 7,
   "metadata": {},
   "outputs": [
    {
     "name": "stdout",
     "output_type": "stream",
     "text": [
      "Time due for the beginning of forward rate: 1\n",
      "Duration of forward rate: 1\n",
      "Price of 1 year unit zero-coupon bond: 0.98\n",
      "Price of 2 year unit zero-coupon bond: 0.9425\n",
      "2 year forward rate of interest beginning 1 years from now: 3.98 %\n",
      "2 year forward force of interest beginning 1 years from now: 3.98 %\n"
     ]
    }
   ],
   "source": [
    "import math\n",
    "t = int(input(\"Time due for the beginning of forward rate: \"))\n",
    "r = int(input(\"Duration of forward rate: \"))\n",
    "print(\"Price of\", t, \"year unit zero-coupon bond: \", end = \"\")\n",
    "p_t = float(input())\n",
    "print(\"Price of\", t+r, \"year unit zero-coupon bond: \", end = \"\")\n",
    "p_tr = float(input())\n",
    "\n",
    "f = (p_t / p_tr) ** (1/r) - 1\n",
    "f *= 100\n",
    "\n",
    "print(t+r, \"year forward rate of interest beginning\", t, \"years from now:\", \"%.2f\" % f, \"%\")\n",
    "print(t+r, \"year forward force of interest beginning\", t, \"years from now:\", \"%.2f\" % f, \"%\")"
   ]
  },
  {
   "cell_type": "code",
   "execution_count": 24,
   "metadata": {},
   "outputs": [
    {
     "name": "stdout",
     "output_type": "stream",
     "text": [
      "1 - 2 : 0.04009803921568622\n",
      "1 - 3 : 0.04711876959925565\n",
      "1 - 4 : 0.06019481233635404\n",
      "1 - 5 : 0.05889610811571577\n",
      "2 - 3 : 0.05631764705882358\n",
      "2 - 4 : 0.07048860962373049\n",
      "2 - 5 : 0.06685153927936227\n",
      "3 - 4 : 0.08088235294117663\n",
      "3 - 5 : 0.07486673918190068\n",
      "4 - 5 : 0.08294215686274486\n"
     ]
    }
   ],
   "source": [
    "spot_list = [0, 0.02, 0.03, 0.038, 0.05, 0.051]\n",
    "forward_list = []\n",
    "for i in range(1, 5):\n",
    "    for j in range(i+1, 6):\n",
    "        f = ((1 + spot_list[j])**(i+(j-1))/(1 + spot_list[1])**i)**(1/(j-1)) - 1\n",
    "        print(i, \"-\", j, \":\", f)\n"
   ]
  },
  {
   "cell_type": "code",
   "execution_count": null,
   "metadata": {},
   "outputs": [],
   "source": []
  }
 ],
 "metadata": {
  "kernelspec": {
   "display_name": "Python 3",
   "language": "python",
   "name": "python3"
  },
  "language_info": {
   "codemirror_mode": {
    "name": "ipython",
    "version": 3
   },
   "file_extension": ".py",
   "mimetype": "text/x-python",
   "name": "python",
   "nbconvert_exporter": "python",
   "pygments_lexer": "ipython3",
   "version": "3.7.4"
  }
 },
 "nbformat": 4,
 "nbformat_minor": 4
}
