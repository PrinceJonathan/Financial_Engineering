{
 "cells": [
  {
   "cell_type": "markdown",
   "metadata": {},
   "source": [
    "# 第一題：YTM  \n",
    "## 一、演算法與流程圖\n",
    "首先，我打開第一題的參考網站 https://www.calkoo.com/en/ytm-calculator 操作一番後，得到的結果如下：\n",
    "![](YTM.png)  \n",
    "接著我把課程學到的YTM公式找了出來(公式簡單明瞭，純粹是PV定義的數學化)，如下：\n",
    "![](PV.png)\n",
    "從上可以看到在給定 PV, F, C(可由c求出), n, m 的情況下，r是可計算的  \n",
    "於是在設計演算法時，決定讓r從0.000001開始一直跑直到跑到逼近對應的PV，藉此找出估計準確的r  \n",
    "千言萬語匯做一張流程圖，如下：  \n",
    "![](procedure.jpg)\n",
    "\n",
    "---\n",
    "經過演算法的細節優化後，成果呈現在下方，變數均有文字說明，希望日後看的人還能與今日的我交相呼應"
   ]
  },
  {
   "cell_type": "code",
   "execution_count": 39,
   "metadata": {},
   "outputs": [
    {
     "name": "stdout",
     "output_type": "stream",
     "text": [
      "PV = 950\n",
      "F = 1000\n",
      "c = 5\n",
      "n = 1\n",
      "Choose your payments plan: \n",
      "(a) annually (b) semi-annually (c) quarterly\n",
      "a\n",
      "10.5264%"
     ]
    }
   ],
   "source": [
    "PV = int(input(\"PV = \"))  #Current Bond Price\n",
    "F = int(input(\"F = \"))  #Bond Par Value\n",
    "c = int(input(\"c = \")) / 100  #Bond Coupon Rate(%p.a.)\n",
    "n = int(input(\"n = \"))  #Years to Maturity\n",
    "print(\"Choose your payments plan: \")\n",
    "print(\"(a) annually (b) semi-annually (c) quarterly\")\n",
    "m = input()  #輸入Payment方案\n",
    "e = 1000000  #取小數點後4位數\n",
    "if m == \"a\":\n",
    "    m = 1\n",
    "    n *= m\n",
    "    C = F * c / m\n",
    "    for i in range(1, e):\n",
    "        r = i/e\n",
    "        P = C * (1 - (1 + r/m)**(-n))/(r/m) + F/(1+r/m)**n\n",
    "        if P < PV:\n",
    "            r = 100*r/m\n",
    "            print(\"%.4f\" % r, end = \"%\")\n",
    "            break\n",
    "elif m == \"b\":\n",
    "    m = 2\n",
    "    n *= m\n",
    "    C = F * c / m\n",
    "    print(n)\n",
    "    for i in range(1, e):\n",
    "        r = i/e\n",
    "        P = C * (1 - (1 + r/m)**(-n))/(r/m) + F/(1+r/m)**n\n",
    "        if P < PV:\n",
    "            r = 100*r/m\n",
    "            print(\"%.4f\" % r, end = \"%\")\n",
    "            break\n",
    "else:\n",
    "    m = 4\n",
    "    n *= m\n",
    "    C = F * c / m\n",
    "    for i in range(1, e):\n",
    "        r = i/e\n",
    "        P = C * (1 - (1 + r/m)**(-n))/(r/m) + F/(1+r/m)**n\n",
    "        if P < PV:\n",
    "            r = 100*r/m\n",
    "            print(\"%.4f\" % r, end = \"%\")\n",
    "            break"
   ]
  },
  {
   "cell_type": "markdown",
   "metadata": {},
   "source": [
    "---"
   ]
  },
  {
   "cell_type": "markdown",
   "metadata": {},
   "source": [
    "# 第二題：Spot rate\n",
    "首先，我打開第二題的參考網站 https://www.trignosource.com/finance/spot%20rate.html#Calculator 操作一番後，得到的結果如下：\n",
    "![](spot_rate_web.png)\n",
    "根據zero-coupon bond的定義，可以數學化得出下列公式：\n",
    "![](spot_rate_def.png)"
   ]
  },
  {
   "cell_type": "code",
   "execution_count": 52,
   "metadata": {},
   "outputs": [
    {
     "name": "stdout",
     "output_type": "stream",
     "text": [
      "Duration of spot rate = 4\n",
      "Price of 4 year unit zero-coupon bond = 0.683\n",
      "4 year spot rate of interest: 10.00 %\n",
      "4 year spot force of interest: 9.53 %\n"
     ]
    }
   ],
   "source": [
    "import math\n",
    "t = int(input(\"Duration of spot rate = \"))\n",
    "print(\"Price of\", t, \"year unit zero-coupon bond = \", end = \"\")\n",
    "p = float(input())\n",
    "\n",
    "y = p ** (-1/t) - 1\n",
    "y *= 100\n",
    "\n",
    "Y = (-1/t) * math.log(p)\n",
    "Y *= 100\n",
    "print(t, \"year spot rate of interest:\", \"%.2f\" % y, \"%\")\n",
    "print(t, \"year spot force of interest:\", \"%.2f\" % Y, \"%\")"
   ]
  },
  {
   "cell_type": "markdown",
   "metadata": {},
   "source": [
    "# 第三題：Forward rate\n",
    "首先，我打開第三題的參考網站 https://www.trignosource.com/finance/Forward%20rate.html#Calculator 操作一番後，得到的結果如下：\n"
   ]
  },
  {
   "cell_type": "code",
   "execution_count": null,
   "metadata": {},
   "outputs": [],
   "source": []
  }
 ],
 "metadata": {
  "kernelspec": {
   "display_name": "Python 3",
   "language": "python",
   "name": "python3"
  },
  "language_info": {
   "codemirror_mode": {
    "name": "ipython",
    "version": 3
   },
   "file_extension": ".py",
   "mimetype": "text/x-python",
   "name": "python",
   "nbconvert_exporter": "python",
   "pygments_lexer": "ipython3",
   "version": "3.7.4"
  }
 },
 "nbformat": 4,
 "nbformat_minor": 4
}
